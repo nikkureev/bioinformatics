{
 "cells": [
  {
   "cell_type": "code",
   "execution_count": 44,
   "metadata": {},
   "outputs": [],
   "source": [
    "import os\n",
    "import shutil"
   ]
  },
  {
   "cell_type": "code",
   "execution_count": 45,
   "metadata": {},
   "outputs": [
    {
     "name": "stdout",
     "output_type": "stream",
     "text": [
      "Current directory C:/Python/my_dir_1\n"
     ]
    }
   ],
   "source": [
    "path_home = os.getcwd()\n",
    "print(\"Current directory %s\" % path)"
   ]
  },
  {
   "cell_type": "code",
   "execution_count": 46,
   "metadata": {},
   "outputs": [
    {
     "name": "stdout",
     "output_type": "stream",
     "text": [
      "2430AD.txt\n",
      "cancer_data.csv\n",
      "event_data_train.csv\n",
      "genres.csv\n",
      "Lord_of_a_Thousand_Suns.txt\n",
      "my_dir_2\n",
      "SkillCraft.csv\n",
      "submissions_data_train.csv\n",
      "temp_data.csv\n",
      "testing_align.txt\n"
     ]
    }
   ],
   "source": [
    "for i in os.listdir('C:/Python'):\n",
    "    print(i)"
   ]
  },
  {
   "cell_type": "code",
   "execution_count": 47,
   "metadata": {},
   "outputs": [
    {
     "name": "stdout",
     "output_type": "stream",
     "text": [
      "Directory successfully made\n"
     ]
    }
   ],
   "source": [
    "path = \"C:/Python/my_dir_1\"\n",
    "\n",
    "try:\n",
    "    os.mkdir(path)\n",
    "except OSError:\n",
    "    print ('Cannot to make directory')\n",
    "else:\n",
    "    print ('Directory successfully made')"
   ]
  },
  {
   "cell_type": "code",
   "execution_count": 48,
   "metadata": {},
   "outputs": [
    {
     "data": {
      "text/plain": [
       "'C:/Python/my_dir_1\\\\Lord_of_a_Thousand_Suns.txt'"
      ]
     },
     "execution_count": 48,
     "metadata": {},
     "output_type": "execute_result"
    }
   ],
   "source": [
    "shutil.move(\"C:/Python/Lord_of_a_Thousand_Suns.txt\", \"C:/Python/my_dir_1\")"
   ]
  },
  {
   "cell_type": "code",
   "execution_count": 49,
   "metadata": {},
   "outputs": [],
   "source": [
    "os.rename(\"C:/Python/my_dir_1/Lord_of_a_Thousand_Suns.txt\", \"C:/Python/my_dir_1/Lord_of_two_Thousands_Suns.txt\")"
   ]
  },
  {
   "cell_type": "code",
   "execution_count": 50,
   "metadata": {},
   "outputs": [
    {
     "name": "stdout",
     "output_type": "stream",
     "text": [
      "Lord_of_two_Thousands_Suns.txt\n"
     ]
    }
   ],
   "source": [
    "for i in os.listdir('C:/Python/my_dir_1'):\n",
    "    print(i)"
   ]
  },
  {
   "cell_type": "code",
   "execution_count": 51,
   "metadata": {},
   "outputs": [],
   "source": [
    "shutil.rmtree('C:/Python/my_dir_1')"
   ]
  },
  {
   "cell_type": "code",
   "execution_count": 52,
   "metadata": {},
   "outputs": [
    {
     "name": "stdout",
     "output_type": "stream",
     "text": [
      "2430AD.txt\n",
      "cancer_data.csv\n",
      "event_data_train.csv\n",
      "genres.csv\n",
      "my_dir_2\n",
      "SkillCraft.csv\n",
      "submissions_data_train.csv\n",
      "temp_data.csv\n",
      "testing_align.txt\n"
     ]
    }
   ],
   "source": [
    "for i in os.listdir('C:/Python'):\n",
    "    print(i)"
   ]
  },
  {
   "cell_type": "code",
   "execution_count": null,
   "metadata": {},
   "outputs": [],
   "source": []
  }
 ],
 "metadata": {
  "kernelspec": {
   "display_name": "Python 3",
   "language": "python",
   "name": "python3"
  },
  "language_info": {
   "codemirror_mode": {
    "name": "ipython",
    "version": 3
   },
   "file_extension": ".py",
   "mimetype": "text/x-python",
   "name": "python",
   "nbconvert_exporter": "python",
   "pygments_lexer": "ipython3",
   "version": "3.7.4"
  }
 },
 "nbformat": 4,
 "nbformat_minor": 4
}
