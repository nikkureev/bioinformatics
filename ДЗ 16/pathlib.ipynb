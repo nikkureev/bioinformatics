{
 "cells": [
  {
   "cell_type": "code",
   "execution_count": 111,
   "metadata": {},
   "outputs": [],
   "source": [
    "import pathlib"
   ]
  },
  {
   "cell_type": "code",
   "execution_count": 112,
   "metadata": {},
   "outputs": [],
   "source": [
    "p = pathlib.Path(\"C:\\Python\\my_dir_2\")"
   ]
  },
  {
   "cell_type": "code",
   "execution_count": 113,
   "metadata": {},
   "outputs": [
    {
     "name": "stdout",
     "output_type": "stream",
     "text": [
      "C:\\Python\\2430AD.txt\n",
      "C:\\Python\\cancer_data.csv\n",
      "C:\\Python\\event_data_train.csv\n",
      "C:\\Python\\genres.csv\n",
      "C:\\Python\\Lord_of_a_Thousand_Suns.txt\n",
      "C:\\Python\\SkillCraft.csv\n",
      "C:\\Python\\submissions_data_train.csv\n",
      "C:\\Python\\temp_data.csv\n",
      "C:\\Python\\testing_align.txt\n"
     ]
    }
   ],
   "source": [
    "for i in p.parents[0].iterdir():\n",
    "    print(i)"
   ]
  },
  {
   "cell_type": "code",
   "execution_count": 114,
   "metadata": {},
   "outputs": [],
   "source": [
    "p.mkdir(parents=True, exist_ok=True)"
   ]
  },
  {
   "cell_type": "code",
   "execution_count": 115,
   "metadata": {},
   "outputs": [],
   "source": [
    "for path in pathlib.Path('C:\\Python').glob('Lord_of_a_Thousand_Suns.txt'):\n",
    "    path.replace(pathlib.Path('C:\\Python\\my_dir_2') / path.name)"
   ]
  },
  {
   "cell_type": "code",
   "execution_count": 116,
   "metadata": {},
   "outputs": [
    {
     "name": "stdout",
     "output_type": "stream",
     "text": [
      "C:\\Python\\my_dir_2\\lord_of_a_thousand_suns.txt\n"
     ]
    }
   ],
   "source": [
    "f = pathlib.Path('C:\\Python\\my_dir_2')\n",
    "for i in f.iterdir():\n",
    "    print(i)"
   ]
  },
  {
   "cell_type": "code",
   "execution_count": 117,
   "metadata": {},
   "outputs": [],
   "source": [
    "filename = pathlib.Path(\"C:\\Python\\my_dir_2\\lord_of_a_thousand_suns.txt\")\n",
    "filename.rename('C:\\Python\\my_dir_2\\lord.txt')"
   ]
  },
  {
   "cell_type": "code",
   "execution_count": 118,
   "metadata": {},
   "outputs": [
    {
     "name": "stdout",
     "output_type": "stream",
     "text": [
      "C:\\Python\\my_dir_2\\lord.txt\n"
     ]
    }
   ],
   "source": [
    "f = pathlib.Path('C:\\Python\\my_dir_2')\n",
    "for i in f.iterdir():\n",
    "    print(i)"
   ]
  },
  {
   "cell_type": "code",
   "execution_count": 120,
   "metadata": {},
   "outputs": [
    {
     "ename": "OSError",
     "evalue": "[WinError 145] Папка не пуста: 'C:\\\\Python\\\\my_dir_2'",
     "output_type": "error",
     "traceback": [
      "\u001b[1;31m---------------------------------------------------------------------------\u001b[0m",
      "\u001b[1;31mOSError\u001b[0m                                   Traceback (most recent call last)",
      "\u001b[1;32m<ipython-input-120-c9aeba7ed494>\u001b[0m in \u001b[0;36m<module>\u001b[1;34m\u001b[0m\n\u001b[0;32m      1\u001b[0m \u001b[0mfold_path\u001b[0m \u001b[1;33m=\u001b[0m \u001b[0mpathlib\u001b[0m\u001b[1;33m.\u001b[0m\u001b[0mPath\u001b[0m\u001b[1;33m(\u001b[0m\u001b[1;34m'C:\\Python\\my_dir_2'\u001b[0m\u001b[1;33m)\u001b[0m\u001b[1;33m\u001b[0m\u001b[1;33m\u001b[0m\u001b[0m\n\u001b[1;32m----> 2\u001b[1;33m \u001b[0mfold_path\u001b[0m\u001b[1;33m.\u001b[0m\u001b[0mrmdir\u001b[0m\u001b[1;33m(\u001b[0m\u001b[1;33m)\u001b[0m\u001b[1;33m\u001b[0m\u001b[1;33m\u001b[0m\u001b[0m\n\u001b[0m",
      "\u001b[1;32mc:\\users\\николай\\appdata\\local\\programs\\python\\python37-32\\lib\\pathlib.py\u001b[0m in \u001b[0;36mrmdir\u001b[1;34m(self)\u001b[0m\n\u001b[0;32m   1300\u001b[0m         \u001b[1;32mif\u001b[0m \u001b[0mself\u001b[0m\u001b[1;33m.\u001b[0m\u001b[0m_closed\u001b[0m\u001b[1;33m:\u001b[0m\u001b[1;33m\u001b[0m\u001b[1;33m\u001b[0m\u001b[0m\n\u001b[0;32m   1301\u001b[0m             \u001b[0mself\u001b[0m\u001b[1;33m.\u001b[0m\u001b[0m_raise_closed\u001b[0m\u001b[1;33m(\u001b[0m\u001b[1;33m)\u001b[0m\u001b[1;33m\u001b[0m\u001b[1;33m\u001b[0m\u001b[0m\n\u001b[1;32m-> 1302\u001b[1;33m         \u001b[0mself\u001b[0m\u001b[1;33m.\u001b[0m\u001b[0m_accessor\u001b[0m\u001b[1;33m.\u001b[0m\u001b[0mrmdir\u001b[0m\u001b[1;33m(\u001b[0m\u001b[0mself\u001b[0m\u001b[1;33m)\u001b[0m\u001b[1;33m\u001b[0m\u001b[1;33m\u001b[0m\u001b[0m\n\u001b[0m\u001b[0;32m   1303\u001b[0m \u001b[1;33m\u001b[0m\u001b[0m\n\u001b[0;32m   1304\u001b[0m     \u001b[1;32mdef\u001b[0m \u001b[0mlstat\u001b[0m\u001b[1;33m(\u001b[0m\u001b[0mself\u001b[0m\u001b[1;33m)\u001b[0m\u001b[1;33m:\u001b[0m\u001b[1;33m\u001b[0m\u001b[1;33m\u001b[0m\u001b[0m\n",
      "\u001b[1;31mOSError\u001b[0m: [WinError 145] Папка не пуста: 'C:\\\\Python\\\\my_dir_2'"
     ]
    }
   ],
   "source": [
    "fold_path = pathlib.Path('C:\\Python\\my_dir_2')\n",
    "fold_path.rmdir()"
   ]
  },
  {
   "cell_type": "code",
   "execution_count": 103,
   "metadata": {},
   "outputs": [
    {
     "name": "stdout",
     "output_type": "stream",
     "text": [
      "C:\\Python\\2430AD.txt\n",
      "C:\\Python\\cancer_data.csv\n",
      "C:\\Python\\event_data_train.csv\n",
      "C:\\Python\\genres.csv\n",
      "C:\\Python\\my_dir_2\n",
      "C:\\Python\\SkillCraft.csv\n",
      "C:\\Python\\submissions_data_train.csv\n",
      "C:\\Python\\temp_data.csv\n",
      "C:\\Python\\testing_align.txt\n"
     ]
    }
   ],
   "source": [
    "for i in p.parents[0].iterdir():\n",
    "    print(i)"
   ]
  }
 ],
 "metadata": {
  "kernelspec": {
   "display_name": "Python 3",
   "language": "python",
   "name": "python3"
  },
  "language_info": {
   "codemirror_mode": {
    "name": "ipython",
    "version": 3
   },
   "file_extension": ".py",
   "mimetype": "text/x-python",
   "name": "python",
   "nbconvert_exporter": "python",
   "pygments_lexer": "ipython3",
   "version": "3.7.4"
  }
 },
 "nbformat": 4,
 "nbformat_minor": 4
}
